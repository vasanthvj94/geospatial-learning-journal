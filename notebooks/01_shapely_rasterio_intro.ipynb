{
 "cells": [
  {
   "cell_type": "markdown",
   "id": "e1b9e30f",
   "metadata": {},
   "source": [
    "# Shapely + Rasterio Notebook\n",
    "This notebook demonstrates basic geometry operations with Shapely and how to read metadata from a raster using Rasterio."
   ]
  },
  {
   "cell_type": "code",
   "execution_count": null,
   "id": "f039ae78",
   "metadata": {},
   "outputs": [],
   "source": [
    "from shapely.geometry import Point\n",
    "\n",
    "point = Point(10, 20)\n",
    "buffer = point.buffer(5)\n",
    "\n",
    "print('Point:', point)\n",
    "print('Buffered:', buffer)"
   ]
  },
  {
   "cell_type": "code",
   "execution_count": null,
   "id": "900c725a",
   "metadata": {},
   "outputs": [],
   "source": [
    "import rasterio\n",
    "\n",
    "raster_path = '../data/raw/sample.tif'  # Update this path if needed\n",
    "\n",
    "try:\n",
    "    with rasterio.open(raster_path) as src:\n",
    "        print('Raster CRS:', src.crs)\n",
    "        print('Bounds:', src.bounds)\n",
    "except Exception as e:\n",
    "    print('Could not read raster:', e)"
   ]
  }
 ],
 "metadata": {},
 "nbformat": 4,
 "nbformat_minor": 5
}
